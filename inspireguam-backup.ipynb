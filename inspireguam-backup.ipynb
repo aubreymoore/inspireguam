{
 "cells": [
  {
   "cell_type": "markdown",
   "id": "d3f467af-615f-42ad-b20c-ead55cace52d",
   "metadata": {},
   "source": [
    "# inspireguam-backup\n",
    "\n",
    "This Jupyter notebook implements a backup strategy for **inspireguam**.\n",
    "\n",
    "Useful reference: [NYU Libraries/Research Guides/Research Data Management/Storage & Backup](https://guides.nyu.edu/data_management/storage-backup)\n",
    "\n",
    "Note: It might be possible to automate backups using PyAutoGui.\n",
    "\n",
    "## Manual Backup\n",
    "1. Open local copy of Zotero.\n",
    "1. In the left-hand panel, select **inspireguam**\n",
    "1. On the main menu, select **File | Export library ...**\n",
    "1. In the **Export ...** dialog, select **Zotero RDF** as the format.\n",
    "1. In the **Export ...** dialog, select **Export Notes**, **Export Files**, and **Include Annotations**\n",
    "1. In the **Export ...** dialog, click the **OK** button\n",
    "1. Use the **Save** dialog, to save the export to **/home/aubrey/Desktop/inspireguam/backup**\n",
    "\n",
    "At this point the folder **inspireguam/backup** should contain 2 objects:\n",
    "* **inspireguam.rdf** which is an XML file containing all of the bibliographic metadata\n",
    "* **files** which is a folder containing PDFs and possibly other files\n",
    "\n",
    "Now push to GitHub as usual.\n",
    "\n",
    "## Restore from Backup\n",
    "1. If necessary, clone the **inspireguam** repo.\n",
    "1. Open local copy of Zotero.\n",
    "1. Create a group library.\n",
    "1. Select the new group library.\n",
    "1. On the Zotero main menu select **File | Import ...**\n",
    "1. Use the **Import** dialog to select **backup.rdf** in the repo\n"
   ]
  },
  {
   "cell_type": "code",
   "execution_count": null,
   "id": "40dba3a0-125a-49f0-b401-85574e0e7f82",
   "metadata": {},
   "outputs": [],
   "source": []
  }
 ],
 "metadata": {
  "kernelspec": {
   "display_name": "Python 3",
   "language": "python",
   "name": "python3"
  },
  "language_info": {
   "codemirror_mode": {
    "name": "ipython",
    "version": 3
   },
   "file_extension": ".py",
   "mimetype": "text/x-python",
   "name": "python",
   "nbconvert_exporter": "python",
   "pygments_lexer": "ipython3",
   "version": "3.8.8"
  }
 },
 "nbformat": 4,
 "nbformat_minor": 5
}

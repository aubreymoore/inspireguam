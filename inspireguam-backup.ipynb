{
 "cells": [
  {
   "cell_type": "markdown",
   "id": "d3f467af-615f-42ad-b20c-ead55cace52d",
   "metadata": {},
   "source": [
    "Useful reference: [NYU Libraries/Research Guides/Research Data Management/Storage & Backup](https://guides.nyu.edu/data_management/storage-backup)\n",
    "\n",
    "Might be able to use PyAutoGui to automate the following work flow.\n",
    "\n",
    "## Manual Backup\n",
    "1. Open local copy of Zotero.\n",
    "1. In the left-hand panel, select **inspireguam**\n",
    "1. On the main menu, select **File | Export library ...**\n",
    "1. In the **Export ...** dialog, select **Zotero RDF** as the format.\n",
    "1. In the **Export ...** dialog, select **Export Notes**, **Export Files**, and **Include Annotations**\n",
    "1. In the **Export ...** dialog, click the **OK** button\n",
    "1. Use the **Save** dialog, to save the export to **/home/aubrey/Desktop/inspireguam/backup**\n",
    "\n",
    "At this point the folder **inspireguam/backup** should contain 2 objects:\n",
    "* **inspireguam.rdf** which is an XML file containing all of the bibliographic metadata\n",
    "* **files** which is a folder containing PDFs and possibly other files\n",
    "\n",
    "Now push to GitHub as usual."
   ]
  },
  {
   "cell_type": "code",
   "execution_count": null,
   "id": "40dba3a0-125a-49f0-b401-85574e0e7f82",
   "metadata": {},
   "outputs": [],
   "source": []
  }
 ],
 "metadata": {
  "kernelspec": {
   "display_name": "Python 3",
   "language": "python",
   "name": "python3"
  },
  "language_info": {
   "codemirror_mode": {
    "name": "ipython",
    "version": 3
   },
   "file_extension": ".py",
   "mimetype": "text/x-python",
   "name": "python",
   "nbconvert_exporter": "python",
   "pygments_lexer": "ipython3",
   "version": "3.8.8"
  }
 },
 "nbformat": 4,
 "nbformat_minor": 5
}
